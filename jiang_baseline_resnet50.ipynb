{
  "nbformat": 4,
  "nbformat_minor": 0,
  "metadata": {
    "colab": {
      "name": "proj.ipynb",
      "provenance": [],
      "collapsed_sections": [
        "CoeJli9mCUmp"
      ],
      "machine_shape": "hm"
    },
    "kernelspec": {
      "name": "python3",
      "display_name": "Python 3"
    },
    "language_info": {
      "name": "python"
    },
    "accelerator": "GPU"
  },
  "cells": [
    {
      "cell_type": "code",
      "source": [
        "from google.colab import drive\n",
        "drive.mount('/content/drive')"
      ],
      "metadata": {
        "colab": {
          "base_uri": "https://localhost:8080/"
        },
        "id": "tFEvdUCRv0VT",
        "outputId": "a82c42b2-e482-45da-c8de-d74e0d757761"
      },
      "execution_count": 1,
      "outputs": [
        {
          "output_type": "stream",
          "name": "stdout",
          "text": [
            "Mounted at /content/drive\n"
          ]
        }
      ]
    },
    {
      "cell_type": "code",
      "source": [
        "cd drive/MyDrive/experiments/"
      ],
      "metadata": {
        "colab": {
          "base_uri": "https://localhost:8080/"
        },
        "id": "3A10yY1Pv5PS",
        "outputId": "a9366f17-f2d1-4488-b012-1250fbb01a28"
      },
      "execution_count": 2,
      "outputs": [
        {
          "output_type": "stream",
          "name": "stdout",
          "text": [
            "/content/drive/MyDrive/experiments\n"
          ]
        }
      ]
    },
    {
      "cell_type": "code",
      "source": [
        "ls"
      ],
      "metadata": {
        "colab": {
          "base_uri": "https://localhost:8080/"
        },
        "id": "iCupPcVUwBR-",
        "outputId": "6cb595c9-0eb2-4b1c-d81e-32e1e8ac7959"
      },
      "execution_count": 3,
      "outputs": [
        {
          "output_type": "stream",
          "name": "stdout",
          "text": [
            "\u001b[0m\u001b[01;34mdata\u001b[0m/  proj.ipynb\n"
          ]
        }
      ]
    },
    {
      "cell_type": "markdown",
      "source": [
        "# baseline"
      ],
      "metadata": {
        "id": "4qjRzZPYvu3X"
      }
    },
    {
      "cell_type": "code",
      "source": [
        "import torch\n",
        "from torchvision.datasets import LFWPeople\n",
        "import torchvision.transforms as transforms"
      ],
      "metadata": {
        "id": "eunDY6eGuEJA"
      },
      "execution_count": 21,
      "outputs": []
    },
    {
      "cell_type": "code",
      "source": [
        "#train_dataset = LFWPeople(\"data/train\", \"train\", transform=transforms.ToTensor(), download=True)\n",
        "train_dataset = LFWPeople(\"data/train\", \"train\", download=True)"
      ],
      "metadata": {
        "colab": {
          "base_uri": "https://localhost:8080/"
        },
        "id": "hDDbC9DDxFZW",
        "outputId": "0daf54fe-7fa6-4f97-a3de-59016990f3a3"
      },
      "execution_count": 56,
      "outputs": [
        {
          "output_type": "stream",
          "name": "stdout",
          "text": [
            "Files already downloaded and verified\n"
          ]
        }
      ]
    },
    {
      "cell_type": "code",
      "source": [
        "#test_dataset = LFWPeople(\"data/test\", \"test\", transform=transforms.ToTensor(), download=True)\n",
        "test_dataset = LFWPeople(\"data/test\", \"test\", download=True)"
      ],
      "metadata": {
        "colab": {
          "base_uri": "https://localhost:8080/"
        },
        "id": "uI-j1TANybF5",
        "outputId": "3cbc063e-bf09-4377-d927-e28a0b953d96"
      },
      "execution_count": 57,
      "outputs": [
        {
          "output_type": "stream",
          "name": "stdout",
          "text": [
            "Files already downloaded and verified\n"
          ]
        }
      ]
    },
    {
      "cell_type": "code",
      "source": [
        "#BATCH_SIZE = 10\n",
        "#train_loader = torch.utils.data.DataLoader(train_dataset, batch_size=10, shuffle=False)\n",
        "#test_loader = torch.utils.data.DataLoader(test_dataset, batch_size=10, shuffle=False) "
      ],
      "metadata": {
        "id": "EOdjoDVSyWsK"
      },
      "execution_count": 58,
      "outputs": []
    },
    {
      "cell_type": "code",
      "source": [
        "class_to_idx = train_dataset.class_to_idx\n",
        "def idx_to_class(idx):\n",
        "    idx_to_class = {v:k for k,v in class_to_idx.items()}\n",
        "    return idx_to_class[idx]"
      ],
      "metadata": {
        "id": "93aOiJ1i5oI7"
      },
      "execution_count": 59,
      "outputs": []
    },
    {
      "cell_type": "code",
      "source": [
        "print(idx_to_class(train_dataset[0][1]))\n",
        "train_dataset[0][0]"
      ],
      "metadata": {
        "colab": {
          "base_uri": "https://localhost:8080/",
          "height": 284
        },
        "id": "GtoGPou0zqx8",
        "outputId": "a300a8cf-9038-47a0-c9ef-975dc073a023"
      },
      "execution_count": 60,
      "outputs": [
        {
          "output_type": "stream",
          "name": "stdout",
          "text": [
            "AJ_Cook\n"
          ]
        },
        {
          "output_type": "execute_result",
          "data": {
            "text/plain": [
              "<PIL.Image.Image image mode=RGB size=250x250 at 0x7FA617F7CA50>"
            ],
            "image/png": "[encoded data removed]"
          },
          "metadata": {},
          "execution_count": 60
        }
      ]
    },
    {
      "cell_type": "markdown",
      "source": [
        "# using ResNet-50 to generate embedding"
      ],
      "metadata": {
        "id": "0O3KqJno0zrz"
      }
    },
    {
      "cell_type": "code",
      "source": [
        "!pip install img2vec_pytorch"
      ],
      "metadata": {
        "colab": {
          "base_uri": "https://localhost:8080/"
        },
        "id": "HKS1dGRD0e1z",
        "outputId": "e56173b7-043e-4511-9a5e-1985c34b82c3"
      },
      "execution_count": 13,
      "outputs": [
        {
          "output_type": "stream",
          "name": "stdout",
          "text": [
            "Collecting img2vec_pytorch\n",
            "  Downloading img2vec_pytorch-1.0.1-py3-none-any.whl (6.9 kB)\n",
            "Requirement already satisfied: numpy in /usr/local/lib/python3.7/dist-packages (from img2vec_pytorch) (1.21.5)\n",
            "Requirement already satisfied: torch in /usr/local/lib/python3.7/dist-packages (from img2vec_pytorch) (1.10.0+cu111)\n",
            "Requirement already satisfied: torchvision in /usr/local/lib/python3.7/dist-packages (from img2vec_pytorch) (0.11.1+cu111)\n",
            "Requirement already satisfied: typing-extensions in /usr/local/lib/python3.7/dist-packages (from torch->img2vec_pytorch) (4.1.1)\n",
            "Requirement already satisfied: pillow!=8.3.0,>=5.3.0 in /usr/local/lib/python3.7/dist-packages (from torchvision->img2vec_pytorch) (7.1.2)\n",
            "Installing collected packages: img2vec-pytorch\n",
            "Successfully installed img2vec-pytorch-1.0.1\n"
          ]
        }
      ]
    },
    {
      "cell_type": "code",
      "source": [
        "from img2vec_pytorch import Img2Vec\n",
        "from PIL import Image\n",
        "import numpy as np\n",
        "from tqdm import tqdm"
      ],
      "metadata": {
        "id": "zerVoofh038f"
      },
      "execution_count": 93,
      "outputs": []
    },
    {
      "cell_type": "code",
      "source": [
        "# Initialize Img2Vec with GPU\n",
        "img2vec = Img2Vec(cuda=True, model=\"resnet50\")"
      ],
      "metadata": {
        "id": "7Or-QUsM06yP"
      },
      "execution_count": 94,
      "outputs": []
    },
    {
      "cell_type": "code",
      "source": [
        "train_dataset[0]"
      ],
      "metadata": {
        "colab": {
          "base_uri": "https://localhost:8080/"
        },
        "id": "zVU5q-Do6YC_",
        "outputId": "7fd68821-9346-4bc6-9360-dcc33c73e8d8"
      },
      "execution_count": 62,
      "outputs": [
        {
          "output_type": "execute_result",
          "data": {
            "text/plain": [
              "(<PIL.Image.Image image mode=RGB size=250x250 at 0x7FA629F11450>, 0)"
            ]
          },
          "metadata": {},
          "execution_count": 62
        }
      ]
    },
    {
      "cell_type": "code",
      "source": [
        "# generating embedding for training dataset\n",
        "train_vectors = []\n",
        "batch_size = 10\n",
        "\n",
        "cur_idx = 0\n",
        "cur_batch = []\n",
        "train_labels = [train_dataset[i][1] for i in range(len(train_dataset))]\n",
        "\n",
        "pbar = tqdm(total=len(train_dataset))\n",
        "while cur_idx < len(train_dataset):\n",
        "    if len(cur_batch) == batch_size:\n",
        "        embeddings = img2vec.get_vec(cur_batch)\n",
        "        train_vectors.append(embeddings)\n",
        "        cur_batch = []\n",
        "    else:\n",
        "        cur_batch.append(train_dataset[cur_idx][0])\n",
        "        cur_idx += 1\n",
        "        pbar.update(1)\n",
        "        if cur_idx >= len(train_dataset):\n",
        "            embeddings = img2vec.get_vec(cur_batch)\n",
        "            train_vectors.append(embeddings)\n",
        "            break\n",
        "\n",
        "pbar.close()\n",
        "train_vectors = np.vstack(train_vectors)\n",
        "print(train_vectors.shape)"
      ],
      "metadata": {
        "colab": {
          "base_uri": "https://localhost:8080/"
        },
        "id": "GxMa2FYw-oH5",
        "outputId": "6459f4d1-01eb-402f-fff8-6d7081917d33"
      },
      "execution_count": 98,
      "outputs": [
        {
          "output_type": "stream",
          "name": "stderr",
          "text": [
            "  0%|          | 10/9525 [03:01<48:03:31, 18.18s/it]\n",
            "100%|██████████| 9525/9525 [00:54<00:00, 174.28it/s]"
          ]
        },
        {
          "output_type": "stream",
          "name": "stdout",
          "text": [
            "(9525, 2048)\n"
          ]
        },
        {
          "output_type": "stream",
          "name": "stderr",
          "text": [
            "\n"
          ]
        }
      ]
    },
    {
      "cell_type": "code",
      "source": [
        "# generating embedding for testing dataset\n",
        "test_vectors = []\n",
        "batch_size = 10\n",
        "\n",
        "cur_idx = 0\n",
        "cur_batch = []\n",
        "test_labels = [test_dataset[i][1] for i in range(len(test_dataset))]\n",
        "\n",
        "pbar = tqdm(total=len(test_dataset))\n",
        "while cur_idx < len(test_dataset):\n",
        "    if len(cur_batch) == batch_size:\n",
        "        embeddings = img2vec.get_vec(cur_batch)\n",
        "        test_vectors.append(embeddings)\n",
        "        cur_batch = []\n",
        "    else:\n",
        "        cur_batch.append(test_dataset[cur_idx][0])\n",
        "        cur_idx += 1\n",
        "        pbar.update(1)\n",
        "        if cur_idx >= len(test_dataset):\n",
        "            embeddings = img2vec.get_vec(cur_batch)\n",
        "            test_vectors.append(embeddings)\n",
        "            break\n",
        "\n",
        "pbar.close()\n",
        "test_vectors = np.vstack(test_vectors)\n",
        "print(test_vectors.shape)"
      ],
      "metadata": {
        "colab": {
          "base_uri": "https://localhost:8080/"
        },
        "id": "BmmrCySbAE8d",
        "outputId": "f310a887-abde-47cd-e589-7c9c7e0ba52a"
      },
      "execution_count": 99,
      "outputs": [
        {
          "output_type": "stream",
          "name": "stderr",
          "text": [
            "100%|██████████| 3708/3708 [00:21<00:00, 176.15it/s]"
          ]
        },
        {
          "output_type": "stream",
          "name": "stdout",
          "text": [
            "(3708, 2048)\n"
          ]
        },
        {
          "output_type": "stream",
          "name": "stderr",
          "text": [
            "\n"
          ]
        }
      ]
    },
    {
      "cell_type": "markdown",
      "source": [
        "# store output as npy file"
      ],
      "metadata": {
        "id": "CoeJli9mCUmp"
      }
    },
    {
      "cell_type": "code",
      "source": [
        "from numpy import save\n",
        "import json"
      ],
      "metadata": {
        "id": "yehvpGDlBXN-"
      },
      "execution_count": 103,
      "outputs": []
    },
    {
      "cell_type": "code",
      "source": [
        "save(\"data/resnet50_train_vectors.npy\", train_vectors)\n",
        "save(\"data/resnet50_test_vectors.npy\", test_vectors)"
      ],
      "metadata": {
        "id": "9tGB_tokCYAL"
      },
      "execution_count": 101,
      "outputs": []
    },
    {
      "cell_type": "code",
      "source": [
        "with open(\"data/train_labels.json\", \"w+\") as f:\n",
        "    json.dump(train_labels, f)\n",
        "\n",
        "with open(\"data/test_labels.json\", \"w+\") as f:\n",
        "    json.dump(test_labels, f)"
      ],
      "metadata": {
        "id": "eH2gQEc9Cl8m"
      },
      "execution_count": 105,
      "outputs": []
    },
    {
      "cell_type": "markdown",
      "source": [
        "# evaluation"
      ],
      "metadata": {
        "id": "_KanPLyMDBZV"
      }
    },
    {
      "cell_type": "code",
      "source": [
        "import numpy as np\n",
        "from tqdm import tqdm\n",
        "import json\n",
        "from sklearn.neighbors import KNeighborsClassifier\n",
        "from sklearn import metrics"
      ],
      "metadata": {
        "id": "o_pOgRB3Cp6c"
      },
      "execution_count": 118,
      "outputs": []
    },
    {
      "cell_type": "code",
      "source": [
        "# load data\n",
        "train_vectors = np.load(\"data/resnet50_train_vectors.npy\")\n",
        "test_vectors = np.load(\"data/resnet50_test_vectors.npy\")\n",
        "\n",
        "train_labels = json.load(open(\"data/train_labels.json\"))\n",
        "test_labels = json.load(open(\"data/test_labels.json\"))\n",
        "\n",
        "print(train_vectors.shape, test_vectors.shape)\n",
        "print(len(train_labels), len(test_labels))"
      ],
      "metadata": {
        "colab": {
          "base_uri": "https://localhost:8080/"
        },
        "id": "JPV9I-1cDPYX",
        "outputId": "481ef1e3-1d1f-49a5-e7ff-2e4ac49164f6"
      },
      "execution_count": 109,
      "outputs": [
        {
          "output_type": "stream",
          "name": "stdout",
          "text": [
            "(9525, 2048) (3708, 2048)\n",
            "9525 3708\n"
          ]
        }
      ]
    },
    {
      "cell_type": "code",
      "source": [
        "# search for similarity threshold \n",
        "pos_res = []\n",
        "neg_res = []\n",
        "for src_idx, (src_vec, src_label) in tqdm(enumerate(list(zip(train_vectors, train_labels))), total=len(train_vectors)):\n",
        "    pos = []\n",
        "    neg = []\n",
        "    for tgt_idx, (tgt_vec, tgt_label) in enumerate(list(zip(train_vectors, train_labels))):\n",
        "        if src_idx == tgt_idx:\n",
        "            continue\n",
        "\n",
        "        cos_sim = np.dot(src_vec, tgt_vec) / (np.linalg.norm(src_vec)*np.linalg.norm(tgt_vec))\n",
        "        if src_label == tgt_label:\n",
        "            pos.append(cos_sim)\n",
        "        else:\n",
        "            neg.append(cos_sim)\n",
        "    \n",
        "    pos_res.append(np.mean(pos))\n",
        "    neg_res.append(np.mean(neg))"
      ],
      "metadata": {
        "colab": {
          "base_uri": "https://localhost:8080/"
        },
        "id": "h9u2Ghi_DSui",
        "outputId": "efd831fc-fede-4495-9fe6-a97265c1fe31"
      },
      "execution_count": 130,
      "outputs": [
        {
          "output_type": "stream",
          "name": "stderr",
          "text": [
            "  0%|          | 0/9525 [00:00<?, ?it/s]/usr/local/lib/python3.7/dist-packages/numpy/core/fromnumeric.py:3441: RuntimeWarning: Mean of empty slice.\n",
            "  out=out, **kwargs)\n",
            "/usr/local/lib/python3.7/dist-packages/numpy/core/_methods.py:189: RuntimeWarning: invalid value encountered in double_scalars\n",
            "  ret = ret.dtype.type(ret / rcount)\n",
            "100%|██████████| 9525/9525 [18:07<00:00,  8.76it/s]\n"
          ]
        }
      ]
    },
    {
      "cell_type": "code",
      "source": [
        "# store similarity scores\n",
        "save(\"data/resnet50_train_pos_mean_cossim.npy\", pos_res)\n",
        "save(\"data/resnet50_train_neg_mean_cossim.npy\", neg_res)"
      ],
      "metadata": {
        "id": "p84QWCcgOIFi"
      },
      "execution_count": 136,
      "outputs": []
    },
    {
      "cell_type": "code",
      "source": [
        "print(f\"mean pos cos similarity: {np.nanmean(pos_res)}\")\n",
        "print(f\"mean neg cos similarity: {np.nanmean(neg_res)}\")"
      ],
      "metadata": {
        "colab": {
          "base_uri": "https://localhost:8080/"
        },
        "id": "Mo2Ptm67JPnR",
        "outputId": "e91a1ec5-0618-4b95-c7f5-7f8ee8dc8d80"
      },
      "execution_count": 134,
      "outputs": [
        {
          "output_type": "stream",
          "name": "stdout",
          "text": [
            "mean pos cos similarity: 0.8242755104015478\n",
            "mean neg cos similarity: 0.7482385635375977\n"
          ]
        }
      ]
    },
    {
      "cell_type": "code",
      "source": [
        ""
      ],
      "metadata": {
        "id": "hoHuxJBGUYXa"
      },
      "execution_count": null,
      "outputs": []
    },
    {
      "cell_type": "code",
      "source": [
        "# test performance on testdataset using the best threshold\n",
        "opt_th = 0.824\n",
        "fp, fn, tp, tn = 0, 0, 0, 0\n",
        "correct, incorrect = 0, 0\n",
        "for src_idx, (src_vec, src_label) in tqdm(enumerate(list(zip(test_vectors, test_labels))), total=len(test_vectors)):\n",
        "    pos = []\n",
        "    neg = []\n",
        "    for tgt_idx, (tgt_vec, tgt_label) in enumerate(list(zip(test_vectors, test_labels))):\n",
        "        if src_idx == tgt_idx:\n",
        "            continue\n",
        "\n",
        "        cos_sim = np.dot(src_vec, tgt_vec) / (np.linalg.norm(src_vec)*np.linalg.norm(tgt_vec))\n",
        "        is_same = True if cos_sim > opt_th else False\n",
        "        if src_label == tgt_label:\n",
        "            if is_same:\n",
        "                correct += 1\n",
        "                tp += 1\n",
        "            else:\n",
        "                incorrect += 1\n",
        "                fn += 1\n",
        "        else:\n",
        "            if is_same:\n",
        "                incorrect += 1\n",
        "                fp += 1\n",
        "            else:\n",
        "                correct += 1\n",
        "                tn += 1\n",
        "\n",
        "acc = correct / (correct+incorrect)\n",
        "precision = tp / (tp+fp)\n",
        "recall = tp / (tp+fn)\n",
        "f1 = 2*((precision*recall)/(precision+recall))\n"
      ],
      "metadata": {
        "colab": {
          "base_uri": "https://localhost:8080/"
        },
        "id": "R8B97XuYJYwF",
        "outputId": "729db854-5e4c-46bd-aedb-a5ecc6fe0b79"
      },
      "execution_count": 135,
      "outputs": [
        {
          "output_type": "stream",
          "name": "stderr",
          "text": [
            "100%|██████████| 3708/3708 [03:11<00:00, 19.35it/s]"
          ]
        },
        {
          "output_type": "stream",
          "name": "stdout",
          "text": [
            "Accuracy: 0.8176975889516582\n",
            "Precision: 0.012333170288589197\n",
            "Recall: 0.6308692120227457\n",
            "F1-Score: 0.024193372523730754\n"
          ]
        },
        {
          "output_type": "stream",
          "name": "stderr",
          "text": [
            "\n"
          ]
        }
      ]
    },
    {
      "cell_type": "code",
      "source": [
        "print(f\"Accuracy: {acc}\")\n",
        "print(f\"Precision: {precision}\")\n",
        "print(f\"Recall: {recall}\")\n",
        "print(f\"F1-Score: {f1}\")\n",
        "print(tp, fp, tn, fn)"
      ],
      "metadata": {
        "colab": {
          "base_uri": "https://localhost:8080/"
        },
        "id": "TUvnq-krPk82",
        "outputId": "57b06799-fa63-4882-b563-3be910ba1790"
      },
      "execution_count": 139,
      "outputs": [
        {
          "output_type": "stream",
          "name": "stdout",
          "text": [
            "Accuracy: 0.8176975889516582\n",
            "Precision: 0.012333170288589197\n",
            "Recall: 0.6308692120227457\n",
            "F1-Score: 0.024193372523730754\n",
            "31064 2487672 11208644 18176\n"
          ]
        }
      ]
    },
    {
      "cell_type": "markdown",
      "source": [
        "# try KNN"
      ],
      "metadata": {
        "id": "D3TBgrhKN3Pp"
      }
    },
    {
      "cell_type": "code",
      "source": [
        "# search for best n\n",
        "for n in range(1, 20):\n",
        "    knn = KNeighborsClassifier(n_neighbors=n)\n",
        "    knn.fit(train_vectors, train_labels)\n",
        "\n",
        "    train_pred = knn.predict(train_vectors)\n",
        "    acc = metrics.accuracy_score(train_labels, train_pred)\n",
        "    print(f\"n:{n}, acc:{acc}\")"
      ],
      "metadata": {
        "colab": {
          "base_uri": "https://localhost:8080/"
        },
        "id": "-qoqc2M6FanO",
        "outputId": "37153f22-92c8-4306-a850-10521a6250c6"
      },
      "execution_count": 121,
      "outputs": [
        {
          "output_type": "stream",
          "name": "stdout",
          "text": [
            "n:1, acc:1.0\n",
            "n:2, acc:0.5505511811023622\n",
            "n:3, acc:0.42351706036745407\n",
            "n:4, acc:0.3573753280839895\n",
            "n:5, acc:0.32388451443569555\n",
            "n:6, acc:0.3000524934383202\n",
            "n:7, acc:0.285249343832021\n",
            "n:8, acc:0.27370078740157483\n",
            "n:9, acc:0.26330708661417324\n",
            "n:10, acc:0.2546981627296588\n",
            "n:11, acc:0.24650918635170604\n",
            "n:12, acc:0.24041994750656168\n",
            "n:13, acc:0.23286089238845145\n",
            "n:14, acc:0.22866141732283465\n",
            "n:15, acc:0.2232020997375328\n",
            "n:16, acc:0.2194225721784777\n",
            "n:17, acc:0.2173228346456693\n",
            "n:18, acc:0.21228346456692915\n",
            "n:19, acc:0.20755905511811024\n"
          ]
        }
      ]
    },
    {
      "cell_type": "code",
      "source": [
        "# using best n=1\n",
        "knn = KNeighborsClassifier(n_neighbors=2)\n",
        "knn.fit(test_vectors, test_labels)\n",
        "\n",
        "# test on testset\n",
        "test_pred = knn.predict(test_vectors)\n",
        "acc = metrics.accuracy_score(test_labels, test_pred)\n",
        "print(f\"test acc:{acc}\")"
      ],
      "metadata": {
        "colab": {
          "base_uri": "https://localhost:8080/"
        },
        "id": "5DAzFiwxGdbS",
        "outputId": "a7b1a12d-ba16-4014-b47d-6761ca0ba01a"
      },
      "execution_count": 127,
      "outputs": [
        {
          "output_type": "stream",
          "name": "stdout",
          "text": [
            "test acc:0.5612189859762675\n"
          ]
        }
      ]
    },
    {
      "cell_type": "code",
      "source": [
        "acc"
      ],
      "metadata": {
        "colab": {
          "base_uri": "https://localhost:8080/"
        },
        "id": "rDUDmSxRHfih",
        "outputId": "194a2e7d-25df-425c-98c8-969ce2251c29"
      },
      "execution_count": 123,
      "outputs": [
        {
          "output_type": "execute_result",
          "data": {
            "text/plain": [
              "0.0"
            ]
          },
          "metadata": {},
          "execution_count": 123
        }
      ]
    },
    {
      "cell_type": "code",
      "source": [
        ""
      ],
      "metadata": {
        "id": "dEuVzQ5BHkET"
      },
      "execution_count": null,
      "outputs": []
    }
  ]
}