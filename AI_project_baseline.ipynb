{
  "nbformat": 4,
  "nbformat_minor": 0,
  "metadata": {
    "colab": {
      "name": "AI-project-baseline.ipynb",
      "provenance": [],
      "collapsed_sections": []
    },
    "kernelspec": {
      "name": "python3",
      "display_name": "Python 3"
    },
    "language_info": {
      "name": "python"
    },
    "accelerator": "GPU"
  },
  "cells": [
    {
      "cell_type": "markdown",
      "source": [
        "## Using Pre-trained ResNet50 Network"
      ],
      "metadata": {
        "id": "GCThaRlKhbWP"
      }
    },
    {
      "cell_type": "code",
      "execution_count": null,
      "metadata": {
        "id": "yQ4HXNnor1fz"
      },
      "outputs": [],
      "source": [
        "from sklearn.datasets import fetch_lfw_people\n",
        "from tensorflow.keras.applications.resnet50 import ResNet50, preprocess_input\n",
        "import numpy as np\n",
        "\n",
        "lfw = fetch_lfw_people(color=True, resize=1)\n",
        "images = preprocess_input(lfw['images'])\n",
        "labels = lfw['target']\n",
        "\n",
        "model = ResNet50(weights='imagenet', include_top=False, input_shape=(125, 94, 3), pooling='avg')\n",
        "pred = model.predict(images)"
      ]
    },
    {
      "cell_type": "markdown",
      "source": [
        "## Using KNN for Vector Search"
      ],
      "metadata": {
        "id": "TyhuXDVLhlNm"
      }
    },
    {
      "cell_type": "code",
      "source": [
        "from sklearn.neighbors import NearestNeighbors\n",
        "\n",
        "knn = NearestNeighbors(n_jobs=-1)\n",
        "knn.fit(pred)\n",
        "neigh = knn.kneighbors(pred, 5, return_distance=False)"
      ],
      "metadata": {
        "id": "31kC7hIVbAxX"
      },
      "execution_count": null,
      "outputs": []
    },
    {
      "cell_type": "markdown",
      "source": [
        "## Evaluate Search Results"
      ],
      "metadata": {
        "id": "4mQGu6-niGg-"
      }
    },
    {
      "cell_type": "code",
      "source": [
        "# 5749 people in total\n",
        "faces_per_person = np.zeros(5749, dtype=int)\n",
        "\n",
        "for label in labels:\n",
        "  faces_per_person[label] += 1\n",
        "\n",
        "acc = 0\n",
        "for n in neigh:\n",
        "  faces_cur_person = faces_per_person[labels[n[0]]]\n",
        "\n",
        "  # we don't want person with only 1 image during evaluation\n",
        "  # but we can use them as noise so skip them\n",
        "  if faces_cur_person == 1:\n",
        "    continue\n",
        "\n",
        "  # we only calculate 5 knn neighbours, so 5 as maximum\n",
        "  if faces_cur_person > 5:\n",
        "    faces_cur_person = 5\n",
        "  \n",
        "  cnt = 0\n",
        "  for i in range(5):\n",
        "    if labels[n[i]] == labels[n[0]]:\n",
        "      cnt += 1\n",
        "\n",
        "  acc += (cnt-1)/(faces_cur_person-1)\n",
        "\n",
        "# 9164 images of 1680 people with 2 or more images\n",
        "print(acc/9164)"
      ],
      "metadata": {
        "colab": {
          "base_uri": "https://localhost:8080/"
        },
        "id": "3SLckcA9fstA",
        "outputId": "765d57c6-106c-43ee-accc-97415a0d7a01"
      },
      "execution_count": null,
      "outputs": [
        {
          "output_type": "stream",
          "name": "stdout",
          "text": [
            "0.10859522770260449\n"
          ]
        }
      ]
    }
  ]
}